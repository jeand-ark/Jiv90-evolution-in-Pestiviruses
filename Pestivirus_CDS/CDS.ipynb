{
 "cells": [
  {
   "cell_type": "code",
   "execution_count": 3,
   "id": "05255ce7-72d4-4ae8-a120-c1b493411f0f",
   "metadata": {},
   "outputs": [],
   "source": [
    "import pandas as pd\n",
    "from Bio import Entrez\n",
    "from Bio import SeqIO\n",
    "from Bio.SeqRecord import SeqRecord\n",
    "from Bio.Seq import Seq"
   ]
  },
  {
   "cell_type": "code",
   "execution_count": 6,
   "id": "9c616562-d75c-4b8b-8f46-40df49743e25",
   "metadata": {},
   "outputs": [
    {
     "name": "stdout",
     "output_type": "stream",
     "text": [
      "done\n"
     ]
    }
   ],
   "source": [
    "ac = open('sequences.acc', 'r')\n",
    "gb = open('CDS.fasta', 'w')\n",
    "Entrez.email = '48igolkinia@mail.ru'\n",
    "for elem in ac:\n",
    "    try:\n",
    "        a = Entrez.efetch(db=\"nucleotide\", id=elem, rettype='gbwithparts', retmode='text')\n",
    "        recs = SeqIO.read(a, \"genbank\")\n",
    "        feats = [feat for feat in recs.features if feat.type == \"CDS\"] \n",
    "        CDS = feats[0].extract(recs.seq)\n",
    "        record = SeqRecord(CDS, name=recs.name, id=recs.id, description=recs.description)\n",
    "        SeqIO.write(record, gb, 'fasta')\n",
    "    except:\n",
    "        pass\n",
    "print('done')"
   ]
  },
  {
   "cell_type": "code",
   "execution_count": 7,
   "id": "83f03a59-8f74-4e81-a3c4-1cde269e09ba",
   "metadata": {},
   "outputs": [
    {
     "name": "stdout",
     "output_type": "stream",
     "text": [
      "1127\n"
     ]
    }
   ],
   "source": [
    "gb = open('CDS.fasta', 'r')\n",
    "recs = list(SeqIO.parse(gb, \"fasta\"))\n",
    "print(len(recs))"
   ]
  },
  {
   "cell_type": "code",
   "execution_count": null,
   "id": "2e7e167b-73ab-41cf-90b8-de77f92112e3",
   "metadata": {},
   "outputs": [],
   "source": []
  }
 ],
 "metadata": {
  "kernelspec": {
   "display_name": "Python 3 (ipykernel)",
   "language": "python",
   "name": "python3"
  },
  "language_info": {
   "codemirror_mode": {
    "name": "ipython",
    "version": 3
   },
   "file_extension": ".py",
   "mimetype": "text/x-python",
   "name": "python",
   "nbconvert_exporter": "python",
   "pygments_lexer": "ipython3",
   "version": "3.11.7"
  }
 },
 "nbformat": 4,
 "nbformat_minor": 5
}
