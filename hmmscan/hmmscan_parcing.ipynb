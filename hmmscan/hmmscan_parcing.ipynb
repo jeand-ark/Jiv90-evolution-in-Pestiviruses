{
 "cells": [
  {
   "cell_type": "code",
   "execution_count": 21,
   "id": "ba9cb37e-13e1-4370-bdfc-1747b1598c41",
   "metadata": {},
   "outputs": [],
   "source": [
    "from Bio import SearchIO\n",
    "from Bio import SeqIO\n",
    "from Bio.SeqRecord import SeqRecord\n",
    "from Bio.Seq import Seq\n",
    "import pandas as pd"
   ]
  },
  {
   "cell_type": "code",
   "execution_count": 29,
   "id": "68821622-3384-413d-8fff-05e51cea05e5",
   "metadata": {},
   "outputs": [],
   "source": [
    "hmm = list(SearchIO.parse('../data/hmmscan.txt', 'hmmscan3-domtab'))\n",
    "f = open(\"../data/hmmscan_data_coordinates.csv\", \"w\")\n",
    "f.writelines(\"id\\tdomain_name\\tstart\\tend\\tevalue\\tscore\\tdescription\\n\")\n",
    "for elem in hmm:\n",
    "    for hit in elem.hits:\n",
    "        for fragment in hit.fragments:\n",
    "            f.writelines(f\"{elem.id}\\t{hit.id}\\t{fragment.query_start}\\t{fragment.query_end}\\t{hit.evalue}\\t{hit.bitscore}\\t{hit.description}\\n\")\n",
    "f.close()    "
   ]
  },
  {
   "cell_type": "code",
   "execution_count": 25,
   "id": "23c6e92b-06cb-4e6d-b6a3-601173affa03",
   "metadata": {},
   "outputs": [],
   "source": [
    "df = pd.read_csv(\"../data/hmmscan_data_coordinates.csv\", sep='\\t')"
   ]
  },
  {
   "cell_type": "code",
   "execution_count": 34,
   "id": "7679922d-fa3b-4d6d-89a9-2d923bf589fd",
   "metadata": {},
   "outputs": [
    {
     "name": "stdout",
     "output_type": "stream",
     "text": [
      "           domain_name                                        description\n",
      "0        Pestivirus_E2                Pestivirus envelope glycoprotein E2\n",
      "1        Peptidase_S31           Pestivirus NS3 polyprotein peptidase S31\n",
      "2        Peptidase_C74                           Pestivirus NS2 peptidase\n",
      "3        Peptidase_C53                  Pestivirus Npro endopeptidase C53\n",
      "4       Flav_NS3-hel_C  Flavivirus NS3 helicase, C-terminal helical do...\n",
      "5      Capsid_pestivir                       Capsid protein C, pestivirus\n",
      "6               RdRP_3                 Viral RNA dependent RNA polymerase\n",
      "7               RdRP_1                 Viral RNA-dependent RNA polymerase\n",
      "8                 DEAD                             DEAD/DEAH box helicase\n",
      "10          Helicase_C               Helicase conserved C-terminal domain\n",
      "13          Flavi_DEAD                             Flavivirus DEAD domain\n",
      "15              RdRP_4                  Viral RNA-directed RNA-polymerase\n",
      "16             DUF3149              Protein of unknown function (DUF3149)\n",
      "18              ResIII           Type III restriction enzyme, res subunit\n",
      "19     Flavi_NS5_thumb  Flavivirus RNA-directed RNA polymerase, thumb ...\n",
      "59           Flavi_NS5  Flavivirus RNA-directed RNA polymerase, finger...\n",
      "307              Jiv90              Cleavage inducing molecular chaperone\n",
      "2851   Ribonuclease_T2                             Ribonuclease T2 family\n",
      "2860              PAM2                         Ataxin-2 C-terminal region\n",
      "3172               MTS                     Methyltransferase small domain\n",
      "9862         ubiquitin                                   Ubiquitin family\n",
      "9879         Rad60-SLD                   Ubiquitin-2 like Rad60 SUMO-like\n",
      "9883            ADDB_N                                   ADDB, N-terminal\n",
      "9887       Ubiquitin_2                              Ubiquitin-like domain\n",
      "13020         TBK1_ULD        TANK binding kinase 1 ubiquitin-like domain\n",
      "13023      Rad60-SLD_2                   Ubiquitin-2 like Rad60 SUMO-like\n",
      "18787    Peptidase_S29                     Hepatitis C virus NS3 protease\n"
     ]
    }
   ],
   "source": [
    "print(df[['domain_name','description']].drop_duplicates())"
   ]
  },
  {
   "cell_type": "code",
   "execution_count": 48,
   "id": "d98e1861-7f36-4e2e-ae2d-ce09ddbed356",
   "metadata": {},
   "outputs": [
    {
     "name": "stdout",
     "output_type": "stream",
     "text": [
      "                                                      id domain_name  start  \\\n",
      "307    NC_003678.1/1-11970/Pestivirus_giraffe-1_H138_...       Jiv90   1528   \n",
      "347    NC_001461.1/1-11967/Bovine_viral_diarrhea_virus_1       Jiv90   1535   \n",
      "1281   OQ784258.1/1-11966/Bovine_viral_diarrhea_virus...       Jiv90   1535   \n",
      "11069  MH231124.1/1-12060/Bovine_viral_diarrhea_virus...       Jiv90   1541   \n",
      "11119  MH231127.1/1-12087/Bovine_viral_diarrhea_virus...       Jiv90   1532   \n",
      "11153  MH231129.1/1-12003/Bovine_viral_diarrhea_virus...       Jiv90   1532   \n",
      "11219  MH231133.1/1-12060/Bovine_viral_diarrhea_virus...       Jiv90   1541   \n",
      "11560  MH806434.1/1-12060/Bovine_viral_diarrhea_virus...       Jiv90   1545   \n",
      "11593  MH806436.1/1-12054/Bovine_viral_diarrhea_virus...       Jiv90   1525   \n",
      "11627  MH806438.1/1-12015/Bovine_viral_diarrhea_virus...       Jiv90   1532   \n",
      "13767  AB558133.1/1-12786/Bovine_viral_diarrhea_virus...       Jiv90    200   \n",
      "13789  AB558134.1/1-12786/Bovine_viral_diarrhea_virus...       Jiv90    199   \n",
      "13986  KU563155.1/1-12006/Bovine_viral_diarrhea_virus...       Jiv90   1536   \n",
      "15516  LC006970.1/1-12063/Bovine_viral_diarrhea_virus...       Jiv90   1533   \n",
      "15720  KJ627180.1/1-12006/Bovine_viral_diarrhea_virus...       Jiv90   1536   \n",
      "16262  KJ463423.1/1-11976/Border_disease_virus_isolat...       Jiv90   1527   \n",
      "17063  JQ612705.1/1-12006/Bovine_viral_diarrhea_virus...       Jiv90   1536   \n",
      "18434  CQ867015.1/1-11967/Sequence_1_from_Patent_EP14...       Jiv90   1535   \n",
      "18557  AB078951.1/1-12594/Bovine_viral_diarrhea_virus...       Jiv90    199   \n",
      "18577  AB078952.1/1-12594/Bovine_viral_diarrhea_virus...       Jiv90    199   \n",
      "18790               AF268278.1/1-12123/Pestivirus_type_1       Jiv90   1587   \n",
      "18808  AJ133738.1/1-11967/Bovine_viral_diarrhea_virus...       Jiv90   1535   \n",
      "18863  AF144617.2/1-11970/Pestivirus_giraffe-1_H138_c...       Jiv90   1528   \n",
      "19332  M31182.1/1-11967/Bovine_viral_diarrhea_virus_1...       Jiv90   1535   \n",
      "\n",
      "        end        evalue  score                            description  \n",
      "307    1616  2.700000e-37  127.1  Cleavage inducing molecular chaperone  \n",
      "347    1620  2.600000e-35  120.8  Cleavage inducing molecular chaperone  \n",
      "1281   1620  2.600000e-35  120.8  Cleavage inducing molecular chaperone  \n",
      "11069  1630  1.400000e-36  124.9  Cleavage inducing molecular chaperone  \n",
      "11119  1621  6.300000e-37  125.9  Cleavage inducing molecular chaperone  \n",
      "11153  1621  2.300000e-37  127.4  Cleavage inducing molecular chaperone  \n",
      "11219  1630  6.500000e-37  125.9  Cleavage inducing molecular chaperone  \n",
      "11560  1630  3.600000e-35  120.3  Cleavage inducing molecular chaperone  \n",
      "11593  1614  3.000000e-36  123.8  Cleavage inducing molecular chaperone  \n",
      "11627  1603  5.600000e-28   97.3  Cleavage inducing molecular chaperone  \n",
      "13767   288  2.100000e-35  121.1  Cleavage inducing molecular chaperone  \n",
      "13789   288  1.600000e-37  127.9  Cleavage inducing molecular chaperone  \n",
      "13986  1622  8.100000e-36  122.4  Cleavage inducing molecular chaperone  \n",
      "15516  1622  1.400000e-36  124.9  Cleavage inducing molecular chaperone  \n",
      "15720  1622  8.100000e-36  122.4  Cleavage inducing molecular chaperone  \n",
      "16262  1607  5.500000e-32  110.1  Cleavage inducing molecular chaperone  \n",
      "17063  1622  8.100000e-36  122.4  Cleavage inducing molecular chaperone  \n",
      "18434  1620  2.600000e-35  120.8  Cleavage inducing molecular chaperone  \n",
      "18557   288  1.500000e-37  127.9  Cleavage inducing molecular chaperone  \n",
      "18577   288  1.400000e-37  128.1  Cleavage inducing molecular chaperone  \n",
      "18790  1672  2.900000e-35  120.6  Cleavage inducing molecular chaperone  \n",
      "18808  1620  2.500000e-35  120.8  Cleavage inducing molecular chaperone  \n",
      "18863  1616  2.700000e-37  127.1  Cleavage inducing molecular chaperone  \n",
      "19332  1620  2.600000e-35  120.8  Cleavage inducing molecular chaperone  \n"
     ]
    }
   ],
   "source": [
    "print( df[df['domain_name'] == 'Jiv90'])"
   ]
  },
  {
   "cell_type": "code",
   "execution_count": 58,
   "id": "ee0f1978-31b8-4d83-8176-43a3d5cb042c",
   "metadata": {},
   "outputs": [
    {
     "name": "stdout",
     "output_type": "stream",
     "text": [
      "                                                     id      domain_name  \\\n",
      "18768  AF220247.2/1-11724/Bovine_viral_diarrhea_virus-1    Peptidase_C53   \n",
      "18771  AF220247.2/1-11724/Bovine_viral_diarrhea_virus-1  Capsid_pestivir   \n",
      "18767  AF220247.2/1-11724/Bovine_viral_diarrhea_virus-1    Peptidase_C74   \n",
      "18766  AF220247.2/1-11724/Bovine_viral_diarrhea_virus-1    Peptidase_S31   \n",
      "18782  AF220247.2/1-11724/Bovine_viral_diarrhea_virus-1           ResIII   \n",
      "18779  AF220247.2/1-11724/Bovine_viral_diarrhea_virus-1       Flavi_DEAD   \n",
      "18774  AF220247.2/1-11724/Bovine_viral_diarrhea_virus-1             DEAD   \n",
      "18776  AF220247.2/1-11724/Bovine_viral_diarrhea_virus-1       Helicase_C   \n",
      "18777  AF220247.2/1-11724/Bovine_viral_diarrhea_virus-1       Helicase_C   \n",
      "18775  AF220247.2/1-11724/Bovine_viral_diarrhea_virus-1             DEAD   \n",
      "18780  AF220247.2/1-11724/Bovine_viral_diarrhea_virus-1       Flavi_DEAD   \n",
      "18770  AF220247.2/1-11724/Bovine_viral_diarrhea_virus-1   Flav_NS3-hel_C   \n",
      "18769  AF220247.2/1-11724/Bovine_viral_diarrhea_virus-1    Peptidase_C53   \n",
      "18778  AF220247.2/1-11724/Bovine_viral_diarrhea_virus-1       Helicase_C   \n",
      "18772  AF220247.2/1-11724/Bovine_viral_diarrhea_virus-1           RdRP_3   \n",
      "18773  AF220247.2/1-11724/Bovine_viral_diarrhea_virus-1           RdRP_1   \n",
      "18781  AF220247.2/1-11724/Bovine_viral_diarrhea_virus-1           RdRP_4   \n",
      "18783  AF220247.2/1-11724/Bovine_viral_diarrhea_virus-1  Flavi_NS5_thumb   \n",
      "\n",
      "       start   end         evalue  score  \\\n",
      "18768      0   168  7.500000e-107  354.6   \n",
      "18771    172   228   2.600000e-28   98.0   \n",
      "18767   1332  1531  1.700000e-121  403.4   \n",
      "18766   1598  1809  8.100000e-146  483.2   \n",
      "18782   1814  1952   4.400000e-03   17.2   \n",
      "18779   1816  1956   5.600000e-09   36.4   \n",
      "18774   1821  1954   7.000000e-10   39.2   \n",
      "18776   1836  1883   1.500000e-09   38.4   \n",
      "18777   1992  2108   1.500000e-09   38.4   \n",
      "18775   1993  2050   7.000000e-10   39.2   \n",
      "18780   1997  2020   5.600000e-09   36.4   \n",
      "18770   2142  2284   3.800000e-34  117.8   \n",
      "18769   3123  3143  7.500000e-107  354.6   \n",
      "18778   3427  3465   1.500000e-09   38.4   \n",
      "18772   3467  3697   3.400000e-21   75.8   \n",
      "18773   3526  3690   6.800000e-11   41.9   \n",
      "18781   3529  3688   1.400000e-03   17.9   \n",
      "18783   3679  3772   9.300000e-03   16.2   \n",
      "\n",
      "                                             description  \n",
      "18768                  Pestivirus Npro endopeptidase C53  \n",
      "18771                       Capsid protein C, pestivirus  \n",
      "18767                           Pestivirus NS2 peptidase  \n",
      "18766           Pestivirus NS3 polyprotein peptidase S31  \n",
      "18782           Type III restriction enzyme, res subunit  \n",
      "18779                             Flavivirus DEAD domain  \n",
      "18774                             DEAD/DEAH box helicase  \n",
      "18776               Helicase conserved C-terminal domain  \n",
      "18777               Helicase conserved C-terminal domain  \n",
      "18775                             DEAD/DEAH box helicase  \n",
      "18780                             Flavivirus DEAD domain  \n",
      "18770  Flavivirus NS3 helicase, C-terminal helical do...  \n",
      "18769                  Pestivirus Npro endopeptidase C53  \n",
      "18778               Helicase conserved C-terminal domain  \n",
      "18772                 Viral RNA dependent RNA polymerase  \n",
      "18773                 Viral RNA-dependent RNA polymerase  \n",
      "18781                  Viral RNA-directed RNA-polymerase  \n",
      "18783  Flavivirus RNA-directed RNA polymerase, thumb ...  \n"
     ]
    }
   ],
   "source": [
    "print( df.iloc[18766:18784].sort_values('start'))"
   ]
  },
  {
   "cell_type": "code",
   "execution_count": 26,
   "id": "9e9a735e-4304-4bce-9c46-ad38b1b14a16",
   "metadata": {},
   "outputs": [
    {
     "name": "stdout",
     "output_type": "stream",
     "text": [
      "                                                    id      domain_name  \\\n",
      "345  NC_001461.1/1-11967/Bovine_viral_diarrhea_virus_1    Peptidase_C53   \n",
      "346  NC_001461.1/1-11967/Bovine_viral_diarrhea_virus_1  Capsid_pestivir   \n",
      "342  NC_001461.1/1-11967/Bovine_viral_diarrhea_virus_1    Pestivirus_E2   \n",
      "344  NC_001461.1/1-11967/Bovine_viral_diarrhea_virus_1    Peptidase_C74   \n",
      "347  NC_001461.1/1-11967/Bovine_viral_diarrhea_virus_1            Jiv90   \n",
      "343  NC_001461.1/1-11967/Bovine_viral_diarrhea_virus_1    Peptidase_S31   \n",
      "359  NC_001461.1/1-11967/Bovine_viral_diarrhea_virus_1           ResIII   \n",
      "356  NC_001461.1/1-11967/Bovine_viral_diarrhea_virus_1       Flavi_DEAD   \n",
      "354  NC_001461.1/1-11967/Bovine_viral_diarrhea_virus_1             DEAD   \n",
      "350  NC_001461.1/1-11967/Bovine_viral_diarrhea_virus_1       Helicase_C   \n",
      "351  NC_001461.1/1-11967/Bovine_viral_diarrhea_virus_1       Helicase_C   \n",
      "355  NC_001461.1/1-11967/Bovine_viral_diarrhea_virus_1             DEAD   \n",
      "357  NC_001461.1/1-11967/Bovine_viral_diarrhea_virus_1       Flavi_DEAD   \n",
      "348  NC_001461.1/1-11967/Bovine_viral_diarrhea_virus_1   Flav_NS3-hel_C   \n",
      "352  NC_001461.1/1-11967/Bovine_viral_diarrhea_virus_1       Helicase_C   \n",
      "349  NC_001461.1/1-11967/Bovine_viral_diarrhea_virus_1           RdRP_3   \n",
      "358  NC_001461.1/1-11967/Bovine_viral_diarrhea_virus_1           RdRP_4   \n",
      "353  NC_001461.1/1-11967/Bovine_viral_diarrhea_virus_1           RdRP_1   \n",
      "\n",
      "     start   end         evalue  score  \\\n",
      "345      0   168  7.800000e-120  396.9   \n",
      "346    172   228   5.100000e-37  125.9   \n",
      "342    693  1065  1.200000e-273  906.5   \n",
      "344   1322  1522  1.700000e-142  472.0   \n",
      "347   1535  1620   2.600000e-35  120.8   \n",
      "343   1679  1890  5.400000e-150  496.9   \n",
      "359   1895  2033   3.300000e-03   17.6   \n",
      "356   1896  2037   6.500000e-09   36.2   \n",
      "354   1902  2035   1.200000e-09   38.3   \n",
      "350   1917  1964   6.000000e-10   39.6   \n",
      "351   2074  2189   6.000000e-10   39.6   \n",
      "355   2075  2130   1.200000e-09   38.3   \n",
      "357   2078  2101   6.500000e-09   36.2   \n",
      "348   2223  2365   1.500000e-34  119.1   \n",
      "352   3508  3546   6.000000e-10   39.6   \n",
      "349   3549  3774   1.500000e-21   77.0   \n",
      "358   3595  3769   4.400000e-04   19.6   \n",
      "353   3606  3770   9.100000e-10   38.1   \n",
      "\n",
      "                                           description  \n",
      "345                  Pestivirus Npro endopeptidase C53  \n",
      "346                       Capsid protein C, pestivirus  \n",
      "342                Pestivirus envelope glycoprotein E2  \n",
      "344                           Pestivirus NS2 peptidase  \n",
      "347              Cleavage inducing molecular chaperone  \n",
      "343           Pestivirus NS3 polyprotein peptidase S31  \n",
      "359           Type III restriction enzyme, res subunit  \n",
      "356                             Flavivirus DEAD domain  \n",
      "354                             DEAD/DEAH box helicase  \n",
      "350               Helicase conserved C-terminal domain  \n",
      "351               Helicase conserved C-terminal domain  \n",
      "355                             DEAD/DEAH box helicase  \n",
      "357                             Flavivirus DEAD domain  \n",
      "348  Flavivirus NS3 helicase, C-terminal helical do...  \n",
      "352               Helicase conserved C-terminal domain  \n",
      "349                 Viral RNA dependent RNA polymerase  \n",
      "358                  Viral RNA-directed RNA-polymerase  \n",
      "353                 Viral RNA-dependent RNA polymerase  \n"
     ]
    }
   ],
   "source": [
    "print( df[df['id'] == 'NC_001461.1/1-11967/Bovine_viral_diarrhea_virus_1'].sort_values('start'))"
   ]
  },
  {
   "cell_type": "code",
   "execution_count": 27,
   "id": "2d949f76-8ce6-4f7d-859d-653734afc669",
   "metadata": {},
   "outputs": [],
   "source": [
    "df_NS5 = df[df['domain_name'].isin(['Peptidase_C53', 'Helicase_C', 'RdRP_3', 'RdRP_1', 'RdRP_4', 'Flavi_NS5_thumb'])]"
   ]
  },
  {
   "cell_type": "code",
   "execution_count": 28,
   "id": "7a4db1fe-57c7-4e49-8cdb-37e2c7c12a0b",
   "metadata": {},
   "outputs": [],
   "source": [
    "NS5_coords = open('NS5_coords.csv', 'w')\n",
    "NS5_coords.writelines(f\"id\\tstart\\tend\\n\")\n",
    "for elem in df_NS5['id'].unique():\n",
    "    start = df_NS5[df_NS5['id'] == elem]['start'].min()\n",
    "    end = df_NS5[df_NS5['id'] == elem]['start'].max()\n",
    "    NS5_coords.writelines(f\"{elem}\\t{start}\\t{end}\\n\")\n",
    "NS5_coords.close()"
   ]
  },
  {
   "cell_type": "code",
   "execution_count": 46,
   "id": "9eff56d6-a047-48b9-b4ec-75f5bcfb14f1",
   "metadata": {},
   "outputs": [
    {
     "name": "stdout",
     "output_type": "stream",
     "text": [
      "1\n",
      "1\n",
      "9413\n",
      "1116\n",
      "1116\n"
     ]
    }
   ],
   "source": [
    "seqs = list(SeqIO.parse('../data/hepatitis_C_AA.fasta', 'fasta'))\n",
    "seqs_nuc = list(SeqIO.parse('../data/hepatitis_C_nuc.fasta', 'fasta'))\n",
    "print(len(seqs))\n",
    "print(len(seqs_nuc))\n",
    "df = pd.read_csv(\"NS5_coords.csv\", sep='\\t')\n",
    "n=0\n",
    "NS5_seqs = open('../data/NS5_hepatitis_AA.fasta', 'w')\n",
    "NS5_seqs_nuc = open('../data/NS5_hepatitis_nucleotide.fasta', 'w')\n",
    "for elem in seqs_nuc:\n",
    "    n+=1\n",
    "    print(len(elem.seq))\n",
    "    record = SeqRecord(elem.seq[(1973*3)-1:(3010*3)-1], name=elem.name, id=elem.id, description=elem.description)\n",
    "    SeqIO.write(record, NS5_seqs_nuc, 'fasta')\n",
    "\n",
    "n = 0\n",
    "for elem in seqs:\n",
    "    n+=1\n",
    "    try:\n",
    "        record = SeqRecord(elem.seq[1973:3010], name=elem.name, id=elem.id, description=elem.description)\n",
    "        SeqIO.write(record, NS5_seqs, 'fasta')\n",
    "    except:\n",
    "        print('no such id', n)\n",
    "NS5 = list(SeqIO.parse('../data/NS5_sequences_AA.fasta', 'fasta'))\n",
    "print(len(NS5))\n",
    "NS5_nuc = list(SeqIO.parse('../data/NS5_sequences_nucleotide.fasta', 'fasta'))\n",
    "print(len(NS5_nuc))"
   ]
  },
  {
   "cell_type": "code",
   "execution_count": 41,
   "id": "cebcce10-e23f-4f30-8cf7-61dccf6647dc",
   "metadata": {},
   "outputs": [
    {
     "ename": "IndexError",
     "evalue": "list index out of range",
     "output_type": "error",
     "traceback": [
      "\u001b[1;31m---------------------------------------------------------------------------\u001b[0m",
      "\u001b[1;31mIndexError\u001b[0m                                Traceback (most recent call last)",
      "Cell \u001b[1;32mIn[41], line 1\u001b[0m\n\u001b[1;32m----> 1\u001b[0m \u001b[38;5;28mprint\u001b[39m(seqs[\u001b[38;5;241m1117\u001b[39m])\n",
      "\u001b[1;31mIndexError\u001b[0m: list index out of range"
     ]
    }
   ],
   "source": [
    "print(seqs[1117])"
   ]
  },
  {
   "cell_type": "code",
   "execution_count": 15,
   "id": "81275000-9902-4ab9-a236-fbf44ae4ba5f",
   "metadata": {},
   "outputs": [
    {
     "data": {
      "text/plain": [
       "1116"
      ]
     },
     "execution_count": 15,
     "metadata": {},
     "output_type": "execute_result"
    }
   ],
   "source": [
    "seqs = list(SeqIO.parse('../data/NS3_sequences_nucleotide.fasta', 'fasta'))\n",
    "len(seqs)"
   ]
  },
  {
   "cell_type": "code",
   "execution_count": 5,
   "id": "6cca7b28-3542-40ac-8d5f-a2f97041df23",
   "metadata": {},
   "outputs": [
    {
     "data": {
      "text/plain": [
       "1890"
      ]
     },
     "execution_count": 5,
     "metadata": {},
     "output_type": "execute_result"
    }
   ],
   "source": [
    "len('TCATCCGTGCATGCATGTTAGTGCGGAAGGTCGCTGGAGGCCACTATGTCCAAATGGCCTTCATGAAGCTGGCCGCGCTGACAGGTACGTACGTATATGACCATCTTACTCCACTGCGGGATTGGGCCCACGCGGGCCTACGAGACCTTGCGGTGGCAGTAGAGCCCGTCGTCTTCTCTGACATGGAGACTAAACTCATCACCTGGGGGGCAGACACCGCGGCGTGTGGGGACATCATCTCGGGTCTACCAGTCTCCGCCCGAAGGGGGAAGGAGATACTTCTAGGACCGGCCGATAGTTTTGGAGAGCAGGGGTGGCGGCTCCTTGCGCCTATCACGGCCTATTCCCAACAAACGCGGGGCCTGCTTGGCTGTATCATCACTAGCCTCACAGGTCGGGACAAGAACCAGGTCGATGGGGAGGTTCAGGTGCTCTCCACCGCAACGCAATCTTTCCTGGCGACCTGCGTCAATGGCGTGTGTTGGACCGTCTACCATGGTGCCGGCTCGAAGACCCTGGCCGGCCCGAAGGGTCCAATCACCCAAATGTACACCAATGTAGACCAGGACCTCGTCGGCTGGCCGGCGCCCCCCGGGGCGCGCTCCATGACACCGTGCACCTGCGGCAGCTCGGACCTTTACTTGGTCACGAGGCATGCTGATGTCGTTCCGGTGCGCCGGCGGGGCGACAGCAGGGGGAGCCTGCTTTCCCCCAGGCCCATCTCCTACCTGAAGGGCTCCTCGGGTGGACCACTGCTTTGCCCTTCGGGGCACGTTGTAGGCATCTTCCGGGCTGCTGTGTGCACCCGGGGGGTTGCGAAGGCGGTGGACTTCATACCCGTTGAGTCTATGGAAACTACCATGCGGTCTCCGGTCTTCACAGACAACTCATCCCCTCCGGCCGTACCGCAAACATTCCAAGTGGCACATTTACACGCTCCCACTGGCAGCGGCAAGAGCACCAAAGTGCCGGCTGCATATGCAGCCCAAGGGTACAAGGTGCTCGTCCTAAACCCGTCCGTTGCCGCCACATTGGGCTTTGGAGCGTATATGTCCAAGGCACATGGCATCGAGCCTAACATCAGAACTGGGGTAAGGACCATCACCACGGGCGGCCCCATCACGTACTCCACCTATTGCAAGTTCCTTGCCGACGGTGGATGCTCCGGGGGCGCCTATGACATCATAATATGTGATGAATGCCACTCAACTGACTCGACTACCATCTTGGGCATCGGCACAGTCCTGGATCAGGCAGAGACGGCTGGAGCGCGGCTCGTCGTGCTCGCCACCGCCACGCCTCCGGGATCGATCACCGTGCCACACCCCAACATCGAGGAAGTGGCCCTGTCCAACACTGGAGAGATTCCCTTCTATGGCAAAGCCATCCCCATTGAGGCCATCAAGGGGGGAAGGCATCTCATCTTCTGCCATTCCAAGAAGAAGTGTGACGAGCTCGCCGCAAAGCTGACAGGCCTCGGACTCAATGCTGTAGCGTATTACCGGGGTCTCGATGTGTCCGTCATACCGACTAGCGGAGACGTCGTTGTCGTGGCAACAGACGCTCTAATGACGGGTTTTACCGGCGACTTTGACTCAGTGATCGACTGCAACACATGTGTCACCCAGACAGTCGATTTCAGCTTGGATCCCACCTTCACCATTGAGACGACAACGCTGCCCCAAGACGCGGTGTCGCGTGCGCAGCGGCGAGGTAGGACTGGCAGGGGCAGGAGTGGCATCTACAGGTTTGTGACTCCAGGAGAACGGCCCTCAGGCATGTTCGACTCCTCGGTCCTGTGTGAGTGCTATGACGCAGGCTGCGCTTGGTATGAGCTCACGCCCGCTGAGACCTCGGTTAGGTTGCGGGCTTACCTAAATACACCAGGGT')"
   ]
  },
  {
   "cell_type": "code",
   "execution_count": null,
   "id": "fad7c686-4c5d-43f3-b9fb-5540ad04a69d",
   "metadata": {},
   "outputs": [],
   "source": []
  }
 ],
 "metadata": {
  "kernelspec": {
   "display_name": "Python 3 (ipykernel)",
   "language": "python",
   "name": "python3"
  },
  "language_info": {
   "codemirror_mode": {
    "name": "ipython",
    "version": 3
   },
   "file_extension": ".py",
   "mimetype": "text/x-python",
   "name": "python",
   "nbconvert_exporter": "python",
   "pygments_lexer": "ipython3",
   "version": "3.11.7"
  }
 },
 "nbformat": 4,
 "nbformat_minor": 5
}
