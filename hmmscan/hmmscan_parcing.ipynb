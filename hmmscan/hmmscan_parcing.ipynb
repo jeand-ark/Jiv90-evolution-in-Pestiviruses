{
 "cells": [
  {
   "cell_type": "code",
   "execution_count": 6,
   "id": "ba9cb37e-13e1-4370-bdfc-1747b1598c41",
   "metadata": {},
   "outputs": [],
   "source": [
    "from Bio import SearchIO"
   ]
  },
  {
   "cell_type": "code",
   "execution_count": 57,
   "id": "68821622-3384-413d-8fff-05e51cea05e5",
   "metadata": {},
   "outputs": [],
   "source": [
    "hmm = list(SearchIO.parse('hmmscan.txt', 'hmmscan3-domtab'))\n",
    "f = open(\"hmmscan_data_coordinates\", \"w\")\n",
    "f.writelines(\"id,domen_name,start,end\\n\")\n",
    "for elem in hmm:\n",
    "    for hit in elem.hits:\n",
    "        for fragment in hit.fragments:\n",
    "            f.writelines(f\"{elem.id},{hit.id},{fragment.query_start},{fragment.query_end}\\n\")\n",
    "f.close()    "
   ]
  }
 ],
 "metadata": {
  "kernelspec": {
   "display_name": "Python 3 (ipykernel)",
   "language": "python",
   "name": "python3"
  },
  "language_info": {
   "codemirror_mode": {
    "name": "ipython",
    "version": 3
   },
   "file_extension": ".py",
   "mimetype": "text/x-python",
   "name": "python",
   "nbconvert_exporter": "python",
   "pygments_lexer": "ipython3",
   "version": "3.11.7"
  }
 },
 "nbformat": 4,
 "nbformat_minor": 5
}
