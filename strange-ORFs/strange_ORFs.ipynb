{
 "cells": [
  {
   "cell_type": "code",
   "execution_count": 2,
   "id": "85a2d468-5b20-4d9a-82e8-3efb2ff338c2",
   "metadata": {},
   "outputs": [],
   "source": [
    "from Bio import SeqIO\n",
    "from Bio.SeqRecord import SeqRecord\n",
    "from Bio.Seq import Seq"
   ]
  },
  {
   "cell_type": "code",
   "execution_count": 49,
   "id": "6ca7114d-6e44-49ab-8636-39ff3a353373",
   "metadata": {},
   "outputs": [
    {
     "name": "stdout",
     "output_type": "stream",
     "text": [
      "PP856398.1 ON932809.1 MT512536.1 LR760748.1\n",
      "PP856398.1 OP860394.1 ON932809.1 ON932810.1 OX394178.1 OX394182.1 ON059809.1 OL452246.1 MT261713.1 MT512536.1 LR760748.1 MK728876.1 MG599478.1 KY370102.1 KY370103.1 KP233070.1 CQ867015.1 CQ867021.1 CQ867027.1 AY442521.1\n"
     ]
    }
   ],
   "source": [
    "cds = open('CDS.fasta', 'r')\n",
    "\n",
    "recs = list(SeqIO.parse(cds, \"fasta\"))\n",
    "stop_problem = list()\n",
    "start_problem = list()\n",
    "n= 0\n",
    "for elem in recs:\n",
    "    seq = str(elem.seq)\n",
    "    orf = [seq[i:i+3] for i in range(0, len(seq), 3)]\n",
    "    orf_1 = orf[:-1]\n",
    "    if 'TAG' in orf_1 or 'TAA' in orf_1 or 'TGA' in orf_1: \n",
    "        stop_problem.append(elem.name)\n",
    "    if orf[0] != 'ATG':\n",
    "        start_problem.append(elem.name)\n",
    "print(' '.join(stop_problem))\n",
    "print(' '.join(start_problem))"
   ]
  }
 ],
 "metadata": {
  "kernelspec": {
   "display_name": "Python 3 (ipykernel)",
   "language": "python",
   "name": "python3"
  },
  "language_info": {
   "codemirror_mode": {
    "name": "ipython",
    "version": 3
   },
   "file_extension": ".py",
   "mimetype": "text/x-python",
   "name": "python",
   "nbconvert_exporter": "python",
   "pygments_lexer": "ipython3",
   "version": "3.11.7"
  }
 },
 "nbformat": 4,
 "nbformat_minor": 5
}
