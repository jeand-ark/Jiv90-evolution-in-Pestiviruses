{
 "cells": [
  {
   "cell_type": "code",
   "execution_count": 2,
   "id": "aedb5625-6d9a-41ec-9e52-1020168300db",
   "metadata": {},
   "outputs": [],
   "source": [
    "from Bio import SeqIO\n",
    "from Bio.SeqRecord import SeqRecord\n",
    "from Bio.Seq import Seq\n",
    "\n"
   ]
  },
  {
   "cell_type": "code",
   "execution_count": 24,
   "id": "cbac8411-e0a2-4bf6-a456-5bf44cbf3fb9",
   "metadata": {},
   "outputs": [
    {
     "name": "stdout",
     "output_type": "stream",
     "text": [
      "0 10912 1\n",
      "0 11447 2\n",
      "0 11966 2\n",
      "0 11618 2\n",
      "0 11612 2\n",
      "0 10811 2\n",
      "0 11119 1\n",
      "0 11363 2\n",
      "0 11614 1\n",
      "0 10675 1\n",
      "0 11552 2\n",
      "0 11335 1\n",
      "0 10234 1\n",
      "0 11644 1\n",
      "0 10790 2\n"
     ]
    }
   ],
   "source": [
    "cds = open(\"CDS.fasta\", \"r\")\n",
    "cds_translation = open(\"CDS_translation.fasta\", \"w\")\n",
    "cds_partial = open(\"CDS_partial_ac.acc\", \"w\") #AC cds без стоп кодонов\n",
    "cds_pal2nal = open(\"CDS_pal2nal.fasta\", \"w\") #CDS, где все будет обрезано под кратность 3м\n",
    "\n",
    "cds_list = list(SeqIO.parse(cds, \"fasta\"))\n",
    "for record in cds_list:\n",
    "    translation_seq = record.seq.translate()\n",
    "    translation_record = SeqRecord(translation_seq, name=record.name, id=record.id, description=record.description)\n",
    "    SeqIO.write(translation_record, cds_translation, \"fasta\")\n",
    "    if '*' not in str(translation_seq): #проверка на наличие стопкодона\n",
    "        cds_partial.write(f\"{record.name}\\n\")\n",
    "    if len(str(record.seq))%3 != 0: #проверка на кратность 3м\n",
    "        new_record = SeqRecord(Seq(str(record.seq)[:-(len(str(record.seq))%3)]), id=record.id, name=record.name, description=record.description)\n",
    "        SeqIO.write(new_record, cds_pal2nal, \"fasta\")\n",
    "\n",
    "    else:\n",
    "        SeqIO.write(record, cds_pal2nal, \"fasta\")\n",
    "cds.close()\n",
    "cds_translation.close()\n",
    "cds_partial.close()\n",
    "cds_pal2nal.close()\n",
    "    \n"
   ]
  },
  {
   "cell_type": "code",
   "execution_count": 25,
   "id": "bd2bc3c9-6088-485d-8f47-f98cab5eb895",
   "metadata": {},
   "outputs": [
    {
     "name": "stdout",
     "output_type": "stream",
     "text": [
      "1118 1118 1118\n"
     ]
    }
   ],
   "source": [
    "cds_pal2nal = open(\"CDS_pal2nal.fasta\", \"r\")\n",
    "cds_translation = open(\"CDS_translation.fasta\", \"r\")\n",
    "cds = open(\"CDS.fasta\", \"r\")\n",
    "n = list(SeqIO.parse(cds, \"fasta\"))\n",
    "a = list(SeqIO.parse(cds_pal2nal, \"fasta\"))\n",
    "b = list(SeqIO.parse(cds_translation, \"fasta\"))\n",
    "print(len(a), len(b), len(n))\n",
    "cds.close()\n",
    "cds_translation.close()\n",
    "cds_pal2nal.close()"
   ]
  }
 ],
 "metadata": {
  "kernelspec": {
   "display_name": "Python 3 (ipykernel)",
   "language": "python",
   "name": "python3"
  },
  "language_info": {
   "codemirror_mode": {
    "name": "ipython",
    "version": 3
   },
   "file_extension": ".py",
   "mimetype": "text/x-python",
   "name": "python",
   "nbconvert_exporter": "python",
   "pygments_lexer": "ipython3",
   "version": "3.11.7"
  }
 },
 "nbformat": 4,
 "nbformat_minor": 5
}
