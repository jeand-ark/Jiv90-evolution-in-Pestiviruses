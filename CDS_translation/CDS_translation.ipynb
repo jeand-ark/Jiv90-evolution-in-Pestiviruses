{
 "cells": [
  {
   "cell_type": "code",
   "execution_count": 4,
   "id": "aedb5625-6d9a-41ec-9e52-1020168300db",
   "metadata": {},
   "outputs": [],
   "source": [
    "from Bio import SeqIO\n",
    "from Bio.SeqRecord import SeqRecord\n",
    "from Bio.Seq import Seq\n",
    "\n"
   ]
  },
  {
   "cell_type": "code",
   "execution_count": 12,
   "id": "cbac8411-e0a2-4bf6-a456-5bf44cbf3fb9",
   "metadata": {},
   "outputs": [],
   "source": [
    "def cds_translation(cds_file, out_file=\"out.fasta\"):\n",
    "    cds = open(cds_file, \"r\")\n",
    "    cds_translation = open(out_file, \"w\")\n",
    "    cds_partial = open(\"CDS_partial_ac.acc\", \"w\") #AC cds без стоп кодонов\n",
    "    cds_pal2nal = open(\"CDS_pal2nal.fasta\", \"w\") #CDS, где все будет обрезано под кратность 3м\n",
    "\n",
    "    cds_list = list(SeqIO.parse(cds, \"fasta\"))\n",
    "    for record in cds_list:\n",
    "        translation_seq = record.seq.translate()\n",
    "        translation_record = SeqRecord(translation_seq, name=record.name, id=record.id, description=record.description)\n",
    "        SeqIO.write(translation_record, cds_translation, \"fasta\")\n",
    "        if '*' not in str(translation_seq): #проверка на наличие стопкодона\n",
    "            cds_partial.write(f\"{record.name}\\n\")\n",
    "        if len(str(record.seq))%3 != 0: #проверка на кратность 3м\n",
    "            new_record = SeqRecord(Seq(str(record.seq)[:-(len(str(record.seq))%3)]), id=record.id, name=record.name, description=record.description)\n",
    "            SeqIO.write(new_record, cds_pal2nal, \"fasta\")\n",
    "    \n",
    "        else:\n",
    "            SeqIO.write(record, cds_pal2nal, \"fasta\")\n",
    "    cds.close()\n",
    "    cds_translation.close()\n",
    "    cds_partial.close()\n",
    "    cds_pal2nal.close()\n",
    "    return \"Done\"\n"
   ]
  },
  {
   "cell_type": "code",
   "execution_count": 14,
   "id": "995db61c-9d9e-4547-ae6f-8ad715793124",
   "metadata": {},
   "outputs": [
    {
     "data": {
      "text/plain": [
       "'Done'"
      ]
     },
     "execution_count": 14,
     "metadata": {},
     "output_type": "execute_result"
    }
   ],
   "source": [
    "cds_translation(\"../data/ubiend_seqs.fasta\", \"../data/ubiend_seqs_translation.fasta\")"
   ]
  },
  {
   "cell_type": "code",
   "execution_count": null,
   "id": "10016d81-5039-4919-b19f-ea5bef0af8d3",
   "metadata": {},
   "outputs": [],
   "source": []
  }
 ],
 "metadata": {
  "kernelspec": {
   "display_name": "Python 3 (ipykernel)",
   "language": "python",
   "name": "python3"
  },
  "language_info": {
   "codemirror_mode": {
    "name": "ipython",
    "version": 3
   },
   "file_extension": ".py",
   "mimetype": "text/x-python",
   "name": "python",
   "nbconvert_exporter": "python",
   "pygments_lexer": "ipython3",
   "version": "3.11.7"
  }
 },
 "nbformat": 4,
 "nbformat_minor": 5
}
